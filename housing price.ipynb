{
 "cells": [
  {
   "cell_type": "code",
   "execution_count": 116,
   "metadata": {},
   "outputs": [],
   "source": [
    "import numpy as np\n",
    "import matplotlib.pyplot as plt\n",
    "import pandas as pd\n",
    "from keras.utils import to_categorical"
   ]
  },
  {
   "cell_type": "code",
   "execution_count": 130,
   "metadata": {
    "scrolled": false
   },
   "outputs": [],
   "source": [
    "#importing dataset and distribute it!\n",
    "train_data = pd.read_csv('train.csv')\n",
    "test_data = pd.read_csv('test.csv')\n",
    "y_test_data = pd.read_csv('y_test.csv')\n",
    "#X contains independent variable\n",
    "X_train = train_data.iloc[:,1:-1].values\n",
    "\n",
    "#Y contains dependent variable i.e., house price \n",
    "Y_train = train_data.iloc[:,80].values\n",
    "\n",
    "#X_test contain independent variables of test data\n",
    "X_test = test_data.iloc[:,1:].values\n",
    "\n",
    "#Y_test contain dependent variables of test data\n",
    "Y_test = y_test_data.iloc[:,1:].values\n",
    "\n",
    "#conversion from vecctor to matrix\n",
    "Y_train = Y_train.reshape((X_train.shape[0], 1))\n",
    "Y_test = Y_test.reshape((X_test.shape[0], 1))\n",
    "\n",
    "#normalize the Y-axis\n",
    "from sklearn.preprocessing import StandardScaler\n",
    "sy = StandardScaler()\n",
    "Y_train = sy.fit_transform(Y_train)\n",
    "st = StandardScaler()\n",
    "Y_test = st.fit_transform(Y_test)\n",
    "Y_test = Y_test.T\n",
    "Y_train = Y_train.T"
   ]
  },
  {
   "cell_type": "code",
   "execution_count": 131,
   "metadata": {},
   "outputs": [],
   "source": [
    "def preprocessing(X):\n",
    "    #converting NAN in string variable into string variable 'a'\n",
    "    #hot - data contain string variables\n",
    "    hot = [1,4,5,6,7,8,9,10,11,12,13,14,15,20,21,22,23,24,26,27,28,29,30,31,32,34,38,39,40,41,52,54,56,57,59,62,63,64,71,72,73,77,78]\n",
    "    m = X.shape[0]\n",
    "    df  = pd.DataFrame(X)\n",
    "    for j in range(79):\n",
    "        for i in range(m):\n",
    "            if X[i,j] == 'None' or X[i,j] == None:\n",
    "                X[i,j] = 'a'\n",
    "\n",
    "    for i in hot:\n",
    "        df[i].fillna('a', inplace = True)\n",
    "        \n",
    "    #X_mod - X modification with encoding of string variable and categorical data\n",
    "    X_mod = np.zeros((m,267 + (X.shape[1] - len(hot))))\n",
    "    \n",
    "    #Encoding the string variable then convert into categorical variables\n",
    "    from sklearn.preprocessing import LabelEncoder, OneHotEncoder\n",
    "    z = 0\n",
    "    a=0\n",
    "    q=0\n",
    "    for i in hot:\n",
    "        x = 0\n",
    "        labelencoder_X = LabelEncoder()\n",
    "        x = labelencoder_X.fit_transform(X[:,i])\n",
    "        x = to_categorical(x)\n",
    "        q += x.shape[1]\n",
    "        X_mod[:,z:z + x.shape[1]] = x.astype(int)\n",
    "        z +=  x.shape[1]\n",
    "        \n",
    "    \n",
    "        #norm - indexes of numerical values\n",
    "    norm = [0,2,3,16,17,18,19,25,33,35,36,37,42,43,44,45,46,47,48,49,50,51,53,55,58,60,61,65,66,67,68,69,70,74,75,76]\n",
    "    #x_norm - matrix of zeros of shape (m, no. of numerical values)\n",
    "    x_norm = np.zeros((m,len(norm)))\n",
    "    a=0\n",
    "    for i in norm:\n",
    "        x_norm[:,a] = X[:,i]\n",
    "        a+=1\n",
    "        \n",
    "    #removing the 'NaN' values from whole numerical dataset \n",
    "    from sklearn.preprocessing import Imputer\n",
    "    imputer = Imputer(missing_values='NaN', strategy='mean',axis=0)\n",
    "    imputer = imputer.fit(x_norm)\n",
    "    x_norm = imputer.transform(x_norm)\n",
    "    \n",
    "    #scaling the x_norm matrix\n",
    "    from sklearn.preprocessing import StandardScaler\n",
    "    sc = StandardScaler()\n",
    "    x_norm = sc.fit_transform(x_norm)\n",
    "    \n",
    "    #updating X_mod matrix with full dataset\n",
    "    X_mod[:,267:] = x_norm\n",
    "    return X_mod"
   ]
  },
  {
   "cell_type": "code",
   "execution_count": 132,
   "metadata": {
    "scrolled": true
   },
   "outputs": [
    {
     "name": "stdout",
     "output_type": "stream",
     "text": [
      "float32\n"
     ]
    },
    {
     "name": "stderr",
     "output_type": "stream",
     "text": [
      "c:\\users\\pushkar khetrapal\\appdata\\local\\programs\\python\\python37\\lib\\site-packages\\sklearn\\utils\\deprecation.py:66: DeprecationWarning: Class Imputer is deprecated; Imputer was deprecated in version 0.20 and will be removed in 0.22. Import impute.SimpleImputer from sklearn instead.\n",
      "  warnings.warn(msg, category=DeprecationWarning)\n",
      "c:\\users\\pushkar khetrapal\\appdata\\local\\programs\\python\\python37\\lib\\site-packages\\sklearn\\utils\\deprecation.py:66: DeprecationWarning: Class Imputer is deprecated; Imputer was deprecated in version 0.20 and will be removed in 0.22. Import impute.SimpleImputer from sklearn instead.\n",
      "  warnings.warn(msg, category=DeprecationWarning)\n"
     ]
    }
   ],
   "source": [
    "X_train = preprocessing(X_train)\n",
    "X_test = preprocessing(X_test)\n",
    "X_train = X_train[:,1:]\n",
    "X_test = X_test[:,1:]\n",
    "X_train = X_train.T\n",
    "X_test = np.float32(X_test.T)\n",
    "print(X_test.dtype)"
   ]
  },
  {
   "cell_type": "code",
   "execution_count": 133,
   "metadata": {},
   "outputs": [
    {
     "name": "stdout",
     "output_type": "stream",
     "text": [
      "(302, 1460)\n",
      "(302, 1459)\n",
      "(1, 1460)\n",
      "(1, 1459)\n"
     ]
    }
   ],
   "source": [
    "print(X_train.shape)\n",
    "print(X_test.shape)\n",
    "print(Y_train.shape)\n",
    "print(Y_test.shape)"
   ]
  },
  {
   "cell_type": "code",
   "execution_count": 134,
   "metadata": {},
   "outputs": [],
   "source": [
    "import tensorflow as tf"
   ]
  },
  {
   "cell_type": "code",
   "execution_count": 135,
   "metadata": {},
   "outputs": [],
   "source": [
    "#create placeholder\n",
    "def create_placeholder(n_x,n_y):\n",
    "    X = tf.placeholder(tf.float32,[n_x,None], name='X')\n",
    "    Y = tf.placeholder(tf.float32, [n_y,None], name='Y')\n",
    "    \n",
    "    return X,Y"
   ]
  },
  {
   "cell_type": "code",
   "execution_count": 136,
   "metadata": {},
   "outputs": [],
   "source": [
    "#Initializing the placeholder\n",
    "\n",
    "def initialize_parameters():\n",
    "    tf.set_random_seed(1)\n",
    "    \n",
    "    W1 = tf.get_variable('W1',[40,302], initializer = tf.contrib.layers.xavier_initializer(seed=1))\n",
    "    b1 = tf.get_variable('b1', [40,1], initializer = tf.zeros_initializer())\n",
    "    W2 = tf.get_variable('W2', [8, 40], initializer = tf.contrib.layers.xavier_initializer(seed=1))\n",
    "    b2 = tf.get_variable('b2', [8,1], initializer = tf.zeros_initializer())\n",
    "    W3 = tf.get_variable('W3', [1,8], initializer = tf.contrib.layers.xavier_initializer(seed=1))\n",
    "    b3 = tf.get_variable('b3', [1,1], initializer = tf.zeros_initializer())\n",
    "    \n",
    "    parameters = {'W1':W1,\n",
    "                  'b1':b1,\n",
    "                  'W2':W2,\n",
    "                  'b2':b2,\n",
    "                  'W3':W3,\n",
    "                  'b3':b3\n",
    "                 }\n",
    "    return parameters"
   ]
  },
  {
   "cell_type": "code",
   "execution_count": 137,
   "metadata": {},
   "outputs": [],
   "source": [
    "#forward propogation in tensorflow\n",
    "def forward_propagation(X, parameters):\n",
    "    W1 = parameters['W1']\n",
    "    b1 = parameters['b1']\n",
    "    W2 = parameters['W2']\n",
    "    b2 = parameters['b2']\n",
    "    W3 = parameters['W3']\n",
    "    b3 = parameters['b3']\n",
    "    \n",
    "    Z1 = tf.add(tf.matmul(W1, X), b1)\n",
    "    A1 = tf.nn.relu(Z1)\n",
    "    Z2 = tf.add(tf.matmul(W2, A1), b2)\n",
    "    A2 = tf.nn.relu(Z2)\n",
    "    Z3 = tf.add(tf.matmul(W3, A2), b3)\n",
    "\n",
    "    \n",
    "    return Z3"
   ]
  },
  {
   "cell_type": "code",
   "execution_count": 138,
   "metadata": {},
   "outputs": [],
   "source": [
    "#compute cost\n",
    "def compute_cost(Z3,Y):\n",
    "    \n",
    "    cost = cost = tf.reduce_sum(tf.pow(Z3 - Y, 2)) / (2 * 1460)\n",
    "    \n",
    "    return cost"
   ]
  },
  {
   "cell_type": "code",
   "execution_count": 139,
   "metadata": {},
   "outputs": [],
   "source": [
    "def random_mini_batches(X, Y, mini_batch_size = 73, seed = 0):\n",
    "    \n",
    "    np.random.seed(seed)            \n",
    "    m = X.shape[1]                  \n",
    "    mini_batches = []\n",
    "    \n",
    "    permutation = list(np.random.permutation(m))\n",
    "    shuffled_X = X[:, permutation]\n",
    "    shuffled_Y = Y[:, permutation]\n",
    "\n",
    "    num_complete_minibatches = np.math.floor(m/mini_batch_size) \n",
    "    for k in range(0, num_complete_minibatches):\n",
    "        \n",
    "        mini_batch_X = shuffled_X[:,k * mini_batch_size:(k + 1) * mini_batch_size]\n",
    "        mini_batch_Y = shuffled_Y[:,k * mini_batch_size:(k + 1) * mini_batch_size]\n",
    "\n",
    "        mini_batch = (mini_batch_X, mini_batch_Y)\n",
    "        mini_batches.append(mini_batch)\n",
    "    \n",
    "    if m % mini_batch_size != 0:\n",
    "\n",
    "        end = m - mini_batch_size * np.math.floor(m / mini_batch_size)\n",
    "        mini_batch_X = shuffled_X[:,num_complete_minibatches * mini_batch_size:]\n",
    "        mini_batch_Y = shuffled_Y[:,num_complete_minibatches * mini_batch_size:]\n",
    "\n",
    "        mini_batch = (mini_batch_X, mini_batch_Y)\n",
    "        mini_batches.append(mini_batch)\n",
    "    \n",
    "    return mini_batches"
   ]
  },
  {
   "cell_type": "code",
   "execution_count": 140,
   "metadata": {},
   "outputs": [],
   "source": [
    "def model(X_train,Y_train,X_test,Y_test,learning_rate=0.0001,num_epochs=1500,minibatch_size=73,print_cost=True):\n",
    "    ops.reset_default_graph()\n",
    "    \n",
    "    tf.set_random_seed(1)\n",
    "    seed=3\n",
    "    (n_x,m) = X_train.shape\n",
    "    n_y = Y_train.shape[0]\n",
    "    costs=[]\n",
    "    \n",
    "    X,Y = create_placeholder(n_x, n_y)\n",
    "    parameters = initialize_parameters()\n",
    "    Z3 = forward_propagation(X, parameters)\n",
    "\n",
    "    cost = tf.reduce_sum(tf.square(Z3-Y))\n",
    "    \n",
    "    #Backpropagation using ADAM optimizer\n",
    "    Y_pred = forward_propagation(X_test, parameters)\n",
    "    optimizer = tf.train.AdamOptimizer(learning_rate = learning_rate).minimize(cost)\n",
    "    init = tf.global_variables_initializer()\n",
    "    with tf.Session() as sess:\n",
    "        sess.run(init)\n",
    "        \n",
    "        for epoch in range(num_epochs):\n",
    "            epoch_cost = 0\n",
    "            \n",
    "            num_minibatches = int(m/minibatch_size)\n",
    "            seed = seed + 1\n",
    "            minibatches = random_mini_batches(X_train, Y_train, minibatch_size, seed)\n",
    "            for minibatch in minibatches:\n",
    "                minibatch_x, minibatch_y = minibatch\n",
    "                \n",
    "                _, minibatch_cost, y_p = sess.run([optimizer, cost, Y_pred], feed_dict = {X:minibatch_x,Y:minibatch_y})\n",
    "            \n",
    "            epoch_cost += minibatch_cost/num_minibatches\n",
    "            \n",
    "            if print_cost == True and epoch%100 == 0:\n",
    "                print('cost after epoch %i : %f'%(epoch,epoch_cost))\n",
    "            if print_cost == True and epoch%5 == 0:\n",
    "                costs.append(epoch_cost)\n",
    "            \n",
    "        plt.plot(np.squeeze(costs))\n",
    "        plt.ylabel('cost')\n",
    "        plt.xlabel('iterations')\n",
    "        plt.title('Learning rate = ' + str(learning_rate))\n",
    "        plt.show()\n",
    "    \n",
    "        parameters = sess.run(parameters)\n",
    "    \n",
    "        correct_prediction = tf.equal(tf.argmax(Z3), tf.argmax(Y))\n",
    "    \n",
    "        accuracy = tf.reduce_mean(tf.cast(correct_prediction,'float'))\n",
    "    \n",
    "        #print(\"train Accuracy \", accuracy.eval({X:X_train,Y:Y_train}))\n",
    "        #print(\"train Accuracy \", accuracy.eval({X:X_test,Y:Y_test}))\n",
    "    \n",
    "    return parameters, y_p"
   ]
  },
  {
   "cell_type": "code",
   "execution_count": 141,
   "metadata": {},
   "outputs": [
    {
     "name": "stdout",
     "output_type": "stream",
     "text": [
      "cost after epoch 0 : 5.570636\n",
      "cost after epoch 100 : 0.199051\n",
      "cost after epoch 200 : 0.073645\n",
      "cost after epoch 300 : 0.068738\n",
      "cost after epoch 400 : 0.021539\n",
      "cost after epoch 500 : 0.009786\n",
      "cost after epoch 600 : 0.004445\n",
      "cost after epoch 700 : 0.004722\n",
      "cost after epoch 800 : 0.000598\n",
      "cost after epoch 900 : 0.000997\n",
      "cost after epoch 1000 : 0.004632\n",
      "cost after epoch 1100 : 0.004843\n",
      "cost after epoch 1200 : 0.000354\n",
      "cost after epoch 1300 : 0.000343\n",
      "cost after epoch 1400 : 0.000033\n"
     ]
    },
    {
     "data": {
      "image/png": "[encoded data removed]",
      "text/plain": [
       "<Figure size 432x288 with 1 Axes>"
      ]
     },
     "metadata": {
      "needs_background": "light"
     },
     "output_type": "display_data"
    }
   ],
   "source": [
    "from tensorflow.python.framework import ops\n",
    "parameters, y_p = model(X_train, Y_train, X_test, Y_test)"
   ]
  },
  {
   "cell_type": "code",
   "execution_count": null,
   "metadata": {},
   "outputs": [],
   "source": []
  },
  {
   "cell_type": "code",
   "execution_count": null,
   "metadata": {},
   "outputs": [],
   "source": []
  },
  {
   "cell_type": "code",
   "execution_count": null,
   "metadata": {},
   "outputs": [],
   "source": []
  },
  {
   "cell_type": "code",
   "execution_count": 142,
   "metadata": {},
   "outputs": [],
   "source": [
    "##############################    5 - Layers Neural Network     ####################################"
   ]
  },
  {
   "cell_type": "code",
   "execution_count": 143,
   "metadata": {},
   "outputs": [],
   "source": [
    "#create placeholder\n",
    "def create_placeholder_5(n_x,n_y):\n",
    "    X = tf.placeholder(tf.float32,[n_x,None], name='X')\n",
    "    Y = tf.placeholder(tf.float32, [n_y,None], name='Y')\n",
    "    \n",
    "    return X,Y"
   ]
  },
  {
   "cell_type": "code",
   "execution_count": 144,
   "metadata": {},
   "outputs": [],
   "source": [
    "#Initializing the placeholder\n",
    "\n",
    "def initialize_parameters_5():\n",
    "    tf.set_random_seed(1)\n",
    "    \n",
    "    W1 = tf.get_variable('W1',[40,302], initializer = tf.contrib.layers.xavier_initializer(seed=1))\n",
    "    b1 = tf.get_variable('b1', [40,1], initializer = tf.zeros_initializer())\n",
    "    W2 = tf.get_variable('W2', [20, 40], initializer = tf.contrib.layers.xavier_initializer(seed=1))\n",
    "    b2 = tf.get_variable('b2', [20,1], initializer = tf.zeros_initializer())\n",
    "    W3 = tf.get_variable('W3',[10,20], initializer = tf.contrib.layers.xavier_initializer(seed=1))\n",
    "    b3 = tf.get_variable('b3', [10,1], initializer = tf.zeros_initializer())\n",
    "    W4 = tf.get_variable('W4', [10, 10], initializer = tf.contrib.layers.xavier_initializer(seed=1))\n",
    "    b4 = tf.get_variable('b4', [10,1], initializer = tf.zeros_initializer())\n",
    "    W5 = tf.get_variable('W5', [1,10], initializer = tf.contrib.layers.xavier_initializer(seed=1))\n",
    "    b5 = tf.get_variable('b5', [1,1], initializer = tf.zeros_initializer())\n",
    "    \n",
    "    parameters = {'W1':W1,\n",
    "                  'b1':b1,\n",
    "                  'W2':W2,\n",
    "                  'b2':b2,\n",
    "                  'W3':W3,\n",
    "                  'b3':b3,\n",
    "                  'W4':W4,\n",
    "                  'b4':b4,\n",
    "                  'W5':W5,\n",
    "                  'b5':b5\n",
    "                 }\n",
    "    return parameters"
   ]
  },
  {
   "cell_type": "code",
   "execution_count": 145,
   "metadata": {},
   "outputs": [],
   "source": [
    "#forward propogation in tensorflow\n",
    "def forward_propagation_5(X, parameters):\n",
    "    W1 = parameters['W1']\n",
    "    b1 = parameters['b1']\n",
    "    W2 = parameters['W2']\n",
    "    b2 = parameters['b2']\n",
    "    W3 = parameters['W3']\n",
    "    b3 = parameters['b3']\n",
    "    W4 = parameters['W4']\n",
    "    b4 = parameters['b4']\n",
    "    W5 = parameters['W5']\n",
    "    b5 = parameters['b5']\n",
    "    \n",
    "    Z1 = tf.add(tf.matmul(W1, X), b1)\n",
    "    A1 = tf.nn.relu(Z1)\n",
    "    Z2 = tf.add(tf.matmul(W2, A1), b2)\n",
    "    A2 = tf.nn.relu(Z2)\n",
    "    Z3 = tf.add(tf.matmul(W3, A2), b3)\n",
    "    A3 = tf.nn.relu(Z3)\n",
    "    Z4 = tf.add(tf.matmul(W4, A3), b4)\n",
    "    A4 = tf.nn.relu(Z4)\n",
    "    Z5 = tf.add(tf.matmul(W5, A4), b5)\n",
    "\n",
    "    \n",
    "    return Z3 "
   ]
  },
  {
   "cell_type": "code",
   "execution_count": 146,
   "metadata": {},
   "outputs": [],
   "source": [
    "def model_5(X_train,Y_train,X_test,Y_test,learning_rate=0.0001,num_epochs=1500,minibatch_size=73,print_cost=True):\n",
    "    ops.reset_default_graph()\n",
    "    \n",
    "    tf.set_random_seed(1)\n",
    "    seed=3\n",
    "    (n_x,m) = X_train.shape\n",
    "    n_y = Y_train.shape[0]\n",
    "    costs=[]\n",
    "    \n",
    "    X,Y = create_placeholder_5(n_x, n_y)\n",
    "    parameters = initialize_parameters_5()\n",
    "    Z3 = forward_propagation_5(X, parameters)\n",
    "\n",
    "    cost = tf.reduce_sum(tf.square(Z3-Y))\n",
    "    \n",
    "    #Backpropagation using ADAM optimizer\n",
    "    \n",
    "    optimizer = tf.train.AdamOptimizer(learning_rate = learning_rate).minimize(cost)\n",
    "    init = tf.global_variables_initializer()\n",
    "    with tf.Session() as sess:\n",
    "        sess.run(init)\n",
    "        Y_pred = forward_propagation_5(X_test, parameters)\n",
    "        for epoch in range(num_epochs):\n",
    "            epoch_cost = 0\n",
    "            \n",
    "            num_minibatches = int(m/minibatch_size)\n",
    "            seed = seed + 1\n",
    "            minibatches = random_mini_batches(X_train, Y_train, minibatch_size, seed)\n",
    "            for minibatch in minibatches:\n",
    "                minibatch_x, minibatch_y = minibatch\n",
    "                \n",
    "                _, minibatch_cost, y_p = sess.run([optimizer, cost, Y_pred], feed_dict = {X:minibatch_x,Y:minibatch_y})\n",
    "            \n",
    "            epoch_cost += minibatch_cost/num_minibatches\n",
    "            \n",
    "            if print_cost == True and epoch%100 == 0:\n",
    "                print('Cost after epoch %i : %f'%(epoch,epoch_cost))\n",
    "            if print_cost == True and epoch%5 == 0:\n",
    "                costs.append(epoch_cost)\n",
    "            \n",
    "        plt.plot(np.squeeze(costs))\n",
    "        plt.ylabel('cost')\n",
    "        plt.xlabel('iterations')\n",
    "        plt.title('Learning rate = ' + str(learning_rate))\n",
    "        plt.show()\n",
    "    \n",
    "        parameters = sess.run(parameters)\n",
    "    \n",
    "        correct_prediction = tf.equal(tf.argmax(Z3), tf.argmax(Y))\n",
    "    \n",
    "        accuracy = tf.reduce_mean(tf.cast(correct_prediction,'float'))\n",
    "    \n",
    "        print(\"train Accuracy \", accuracy.eval({X:X_train,Y:Y_train}))\n",
    "        #print(\"train Accuracy \", accuracy.eval({X:X_test,Y:Y_test}))\n",
    "    \n",
    "    return parameters, y_p"
   ]
  },
  {
   "cell_type": "code",
   "execution_count": 147,
   "metadata": {},
   "outputs": [
    {
     "name": "stdout",
     "output_type": "stream",
     "text": [
      "Cost after epoch 0 : 31.080124\n",
      "Cost after epoch 100 : 2.494944\n",
      "Cost after epoch 200 : 1.248515\n",
      "Cost after epoch 300 : 0.901934\n",
      "Cost after epoch 400 : 0.449180\n",
      "Cost after epoch 500 : 0.293688\n",
      "Cost after epoch 600 : 0.114826\n",
      "Cost after epoch 700 : 0.131000\n",
      "Cost after epoch 800 : 0.086127\n",
      "Cost after epoch 900 : 0.042547\n",
      "Cost after epoch 1000 : 0.017705\n",
      "Cost after epoch 1100 : 0.115850\n",
      "Cost after epoch 1200 : 0.012702\n",
      "Cost after epoch 1300 : 0.012541\n",
      "Cost after epoch 1400 : 0.009090\n"
     ]
    },
    {
     "data": {
      "image/png": "[encoded data removed]",
      "text/plain": [
       "<Figure size 432x288 with 1 Axes>"
      ]
     },
     "metadata": {
      "needs_background": "light"
     },
     "output_type": "display_data"
    },
    {
     "name": "stdout",
     "output_type": "stream",
     "text": [
      "train Accuracy  0.090410955\n"
     ]
    }
   ],
   "source": [
    "from tensorflow.python.framework import ops\n",
    "parameters_5, y_p = model_5(X_train, Y_train, X_test, Y_test)"
   ]
  },
  {
   "cell_type": "code",
   "execution_count": null,
   "metadata": {},
   "outputs": [],
   "source": []
  },
  {
   "cell_type": "code",
   "execution_count": null,
   "metadata": {},
   "outputs": [],
   "source": []
  },
  {
   "cell_type": "code",
   "execution_count": null,
   "metadata": {},
   "outputs": [],
   "source": []
  },
  {
   "cell_type": "code",
   "execution_count": null,
   "metadata": {},
   "outputs": [],
   "source": []
  },
  {
   "cell_type": "code",
   "execution_count": null,
   "metadata": {},
   "outputs": [],
   "source": []
  },
  {
   "cell_type": "code",
   "execution_count": null,
   "metadata": {},
   "outputs": [],
   "source": []
  },
  {
   "cell_type": "code",
   "execution_count": null,
   "metadata": {},
   "outputs": [],
   "source": []
  }
 ],
 "metadata": {
  "kernelspec": {
   "display_name": "Python 3",
   "language": "python",
   "name": "python3"
  },
  "language_info": {
   "codemirror_mode": {
    "name": "ipython",
    "version": 3
   },
   "file_extension": ".py",
   "mimetype": "text/x-python",
   "name": "python",
   "nbconvert_exporter": "python",
   "pygments_lexer": "ipython3",
   "version": "3.7.2"
  }
 },
 "nbformat": 4,
 "nbformat_minor": 2
}
